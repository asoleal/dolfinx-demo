{
 "cells": [
  {
   "cell_type": "code",
   "execution_count": 26,
   "id": "c9a99f2c-acee-4601-a9ff-7d536016a913",
   "metadata": {
    "tags": []
   },
   "outputs": [],
   "source": [
    "import numpy as np"
   ]
  },
  {
   "cell_type": "code",
   "execution_count": 27,
   "id": "a18db08d-f1fe-4105-b010-5b0578cc8cb0",
   "metadata": {
    "tags": []
   },
   "outputs": [],
   "source": [
    "import ufl"
   ]
  },
  {
   "cell_type": "code",
   "execution_count": 28,
   "id": "c310d66d-64d9-426a-bf45-f138f1526305",
   "metadata": {
    "tags": []
   },
   "outputs": [],
   "source": [
    "from dolfinx import fem, io, mesh, plot"
   ]
  },
  {
   "cell_type": "code",
   "execution_count": 29,
   "id": "49139bfd-0b6b-479a-ba49-be611fe43aba",
   "metadata": {
    "tags": []
   },
   "outputs": [],
   "source": [
    "from ufl import ds, dx, grad, inner"
   ]
  },
  {
   "cell_type": "code",
   "execution_count": 30,
   "id": "ba42438d-c8b2-48ec-8cf0-c733f8c5688f",
   "metadata": {
    "tags": []
   },
   "outputs": [],
   "source": [
    "from mpi4py import MPI"
   ]
  },
  {
   "cell_type": "code",
   "execution_count": 31,
   "id": "08578307-5143-406d-9b2e-7f5baad2a56d",
   "metadata": {
    "tags": []
   },
   "outputs": [],
   "source": [
    "from petsc4py.PETSc import ScalarType"
   ]
  },
  {
   "cell_type": "code",
   "execution_count": 32,
   "id": "caeb9ad8-386b-4748-b940-eb15fd1942d6",
   "metadata": {
    "tags": []
   },
   "outputs": [],
   "source": [
    "msh = mesh.create_rectangle(comm=MPI.COMM_WORLD, points=((0.0, 0.0), (2.0, 1.0)), n=(32, 16), cell_type=mesh.CellType.triangle)"
   ]
  },
  {
   "cell_type": "code",
   "execution_count": 33,
   "id": "3767aa1e-66a0-4213-b405-72a9e459d306",
   "metadata": {
    "tags": []
   },
   "outputs": [],
   "source": [
    "V = fem.FunctionSpace(msh, (\"Lagrange\", 1))"
   ]
  },
  {
   "cell_type": "code",
   "execution_count": 34,
   "id": "0fd6015b-a95a-4589-9db5-1bb674aa2271",
   "metadata": {
    "tags": []
   },
   "outputs": [],
   "source": [
    "facets = mesh.locate_entities_boundary(msh, dim=1, marker=lambda x: np.logical_or(np.isclose(x[0], 0.0), np.isclose(x[0], 2.0)))"
   ]
  },
  {
   "cell_type": "code",
   "execution_count": 35,
   "id": "7b8bea84-e255-4a1d-9a75-43a51c4636a4",
   "metadata": {
    "tags": []
   },
   "outputs": [],
   "source": [
    "dofs = fem.locate_dofs_topological(V=V, entity_dim=1, entities=facets)"
   ]
  },
  {
   "cell_type": "code",
   "execution_count": 36,
   "id": "9f77377c-1f44-49a3-b023-18cd8e265e2e",
   "metadata": {
    "tags": []
   },
   "outputs": [],
   "source": [
    "bc = fem.dirichletbc(value=ScalarType(0), dofs=dofs, V=V)"
   ]
  },
  {
   "cell_type": "code",
   "execution_count": 37,
   "id": "813f96fe-800c-49da-95aa-497e21e43014",
   "metadata": {
    "tags": []
   },
   "outputs": [],
   "source": [
    "u = ufl.TrialFunction(V)"
   ]
  },
  {
   "cell_type": "code",
   "execution_count": 38,
   "id": "76ab4bbf-123a-4c8d-8084-2b9ba06c4e08",
   "metadata": {
    "tags": []
   },
   "outputs": [],
   "source": [
    "v = ufl.TestFunction(V)"
   ]
  },
  {
   "cell_type": "code",
   "execution_count": 39,
   "id": "fb496d51-c1e4-4766-b619-797588166121",
   "metadata": {
    "tags": []
   },
   "outputs": [],
   "source": [
    "x = ufl.SpatialCoordinate(msh)"
   ]
  },
  {
   "cell_type": "code",
   "execution_count": 40,
   "id": "c428aac1-26b4-4a45-be1f-0761753caed4",
   "metadata": {
    "tags": []
   },
   "outputs": [],
   "source": [
    "f = 10*ufl.exp(-((x[0] - 0.5)**2 + (x[1] - 0.5)**2) / 0.002)"
   ]
  },
  {
   "cell_type": "code",
   "execution_count": 41,
   "id": "00b42311-5638-4ff5-89bc-75cd0d1980c9",
   "metadata": {
    "tags": []
   },
   "outputs": [],
   "source": [
    "g = ufl.sin(5 * x[0])"
   ]
  },
  {
   "cell_type": "code",
   "execution_count": 42,
   "id": "c4a7b458-a6f1-437a-b257-e4d0d5fb8d22",
   "metadata": {
    "tags": []
   },
   "outputs": [],
   "source": [
    "a = inner(grad(u), grad(v)) * dx"
   ]
  },
  {
   "cell_type": "code",
   "execution_count": 43,
   "id": "184b73d0-c37b-4bf2-be4d-eb363840f401",
   "metadata": {
    "tags": []
   },
   "outputs": [],
   "source": [
    "L = inner(f, v) * dx + inner(g, v) * ds"
   ]
  },
  {
   "cell_type": "code",
   "execution_count": 44,
   "id": "edf00c2f-95d8-46f0-9a7c-8e8734735dd8",
   "metadata": {
    "tags": []
   },
   "outputs": [],
   "source": [
    "problem = fem.petsc.LinearProblem(a, L, bcs=[bc], petsc_options={\"ksp_type\": \"preonly\", \"pc_type\": \"lu\"}) # precondicionadores lu, gmrs (depende de la forma de la matriz)"
   ]
  },
  {
   "cell_type": "code",
   "execution_count": 45,
   "id": "49933aaa-baea-47a4-b2ae-cb30047e0a75",
   "metadata": {
    "tags": []
   },
   "outputs": [],
   "source": [
    "uh = problem.solve()"
   ]
  },
  {
   "cell_type": "code",
   "execution_count": 46,
   "id": "d2696e70-60a2-4eef-8dfb-795037f436c3",
   "metadata": {
    "tags": []
   },
   "outputs": [],
   "source": [
    "with io.XDMFFile(msh.comm, \"poisson.xdmf\", \"w\") as file:\n",
    "    file.write_mesh(msh)\n",
    "    file.write_function(uh)"
   ]
  },
  {
   "cell_type": "code",
   "execution_count": 47,
   "id": "20b74540-2418-4971-910e-e68e53d32486",
   "metadata": {
    "tags": []
   },
   "outputs": [
    {
     "name": "stdout",
     "output_type": "stream",
     "text": [
      "LICENSE  README.md  Untitled.ipynb  poisson.h5\tpoisson.xdmf\n"
     ]
    }
   ],
   "source": [
    "!(ls)"
   ]
  },
  {
   "cell_type": "code",
   "execution_count": 48,
   "id": "0f342a10-473f-417b-81b6-01210b725942",
   "metadata": {
    "tags": []
   },
   "outputs": [
    {
     "name": "stdout",
     "output_type": "stream",
     "text": [
      "pyvista is required\n"
     ]
    }
   ],
   "source": [
    "try:\n",
    "    import pyvista\n",
    "    cells, types, x = plot.create_vtk_mesh(V)\n",
    "    grid = pyvista.UnstructuredGrid(cells, types, x)\n",
    "    grid.point_data[\"u\"] = uh.x.array.real\n",
    "    grid.set_active_scalars(\"u\")\n",
    "except ModuleNotFoundError:\n",
    "    print(\"pyvista is required\")"
   ]
  },
  {
   "cell_type": "code",
   "execution_count": null,
   "id": "7ba261f5-ff79-4354-9fba-3007df83e113",
   "metadata": {},
   "outputs": [],
   "source": []
  }
 ],
 "metadata": {
  "kernelspec": {
   "display_name": "Python 3 (ipykernel)",
   "language": "python",
   "name": "python3"
  },
  "language_info": {
   "codemirror_mode": {
    "name": "ipython",
    "version": 3
   },
   "file_extension": ".py",
   "mimetype": "text/x-python",
   "name": "python",
   "nbconvert_exporter": "python",
   "pygments_lexer": "ipython3",
   "version": "3.10.10"
  }
 },
 "nbformat": 4,
 "nbformat_minor": 5
}
